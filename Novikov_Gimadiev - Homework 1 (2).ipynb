{
 "cells": [
  {
   "cell_type": "markdown",
   "metadata": {
    "scrolled": true
   },
   "source": [
    " ## Домашнее задание 1."
   ]
  },
  {
   "cell_type": "code",
   "execution_count": null,
   "metadata": {
    "collapsed": true
   },
   "outputs": [],
   "source": [
    "import nltk\n",
    "import pandas as pd\n",
    "from nltk.tokenize import WhitespaceTokenizer\n",
    "from string import punctuation\n",
    "exclude = set(punctuation + '0123456789'+u'–—'+u'«»' + '—'+u'.')\n",
    "\n",
    "merged_text1 = open('C:\\\\Users\\\\Лев\\\\Downloads\\\\Minor\\\\2016-2017\\\\1 дз\\\\1.txt', encoding='utf-8').readlines()\n",
    "# merged_text1 = open('C:\\\\Users\\\\Азат\\\\Desktop\\\\4 half-year\\\\texts\\\\1.txt', encoding='utf-8').readlines()\n",
    "merged_text1 = ' '.join(merged_text1)\n",
    "merged_text1 = ''.join(ch for ch in merged_text1 if ch not in exclude)\n",
    "\n",
    "merged_text2 = open('C:\\\\Users\\\\Лев\\\\Downloads\\\\Minor\\\\2016-2017\\\\1 дз\\\\2.txt', encoding='utf-8').readlines()\n",
    "# merged_text2 = open('C:\\\\Users\\\\Азат\\\\Desktop\\\\4 half-year\\\\texts\\\\2.txt', encoding='utf-8').readlines()\n",
    "merged_text2 = ' '.join(merged_text2)\n",
    "merged_text2 = ''.join(ch for ch in merged_text2 if ch not in exclude)\n",
    "\n",
    "# print(merged_text1)\n",
    "# print(merged_text2)"
   ]
  },
  {
   "cell_type": "code",
   "execution_count": 4,
   "metadata": {},
   "outputs": [
    {
     "name": "stdout",
     "output_type": "stream",
     "text": [
      "!\"#$%&'()*+,-./:;<=>?@[\\]^_`{|}~\n"
     ]
    }
   ],
   "source": [
    "print(punctuation)"
   ]
  },
  {
   "cell_type": "code",
   "execution_count": 13,
   "metadata": {},
   "outputs": [
    {
     "name": "stdout",
     "output_type": "stream",
     "text": [
      "﻿мелеховский\n",
      "двор\n",
      "на\n",
      "самом\n",
      "краю\n",
      "хутора\n",
      "воротца\n",
      "со\n",
      "скотиньего\n",
      "база\n",
      "\n",
      "\n",
      "﻿лауреаты\n",
      "президентской\n",
      "премии\n",
      "подъехали\n",
      "к\n",
      "первому\n",
      "корпусу\n",
      "кремля\n",
      "на\n",
      "автобусе\n"
     ]
    }
   ],
   "source": [
    "tokens1 = WhitespaceTokenizer().tokenize(merged_text1.lower())\n",
    "for i in tokens1[:10]: print(i)\n",
    "    \n",
    "print('\\n')\n",
    "    \n",
    "tokens2 = WhitespaceTokenizer().tokenize(merged_text2.lower())\n",
    "for i in tokens2[:10]: print(i)"
   ]
  },
  {
   "cell_type": "code",
   "execution_count": 15,
   "metadata": {},
   "outputs": [
    {
     "name": "stdout",
     "output_type": "stream",
     "text": [
      "Number of tokens in first collection: 11599\n",
      "Number of types in first collection: 5651\n",
      "\n",
      "\n",
      "Number of tokens in second collection: 5046\n",
      "Number of types in second collection: 2506\n"
     ]
    }
   ],
   "source": [
    "print('Number of tokens in first collection:', len(tokens1))\n",
    "types1 = nltk.FreqDist(tokens1)\n",
    "print('Number of types in first collection:', len(types1))\n",
    "    \n",
    "print('\\n')\n",
    "\n",
    "print('Number of tokens in second collection:', len(tokens2))\n",
    "types2 = nltk.FreqDist(tokens2)\n",
    "print('Number of types in second collection:', len(types2))"
   ]
  },
  {
   "cell_type": "code",
   "execution_count": null,
   "metadata": {
    "collapsed": true
   },
   "outputs": [],
   "source": []
  },
  {
   "cell_type": "code",
   "execution_count": null,
   "metadata": {
    "collapsed": true
   },
   "outputs": [],
   "source": []
  },
  {
   "cell_type": "code",
   "execution_count": null,
   "metadata": {
    "collapsed": true
   },
   "outputs": [],
   "source": []
  }
 ],
 "metadata": {
  "kernelspec": {
   "display_name": "Python 3",
   "language": "python",
   "name": "python3"
  },
  "language_info": {
   "codemirror_mode": {
    "name": "ipython",
    "version": 3
   },
   "file_extension": ".py",
   "mimetype": "text/x-python",
   "name": "python",
   "nbconvert_exporter": "python",
   "pygments_lexer": "ipython3",
   "version": "3.7.3"
  }
 },
 "nbformat": 4,
 "nbformat_minor": 1
}
